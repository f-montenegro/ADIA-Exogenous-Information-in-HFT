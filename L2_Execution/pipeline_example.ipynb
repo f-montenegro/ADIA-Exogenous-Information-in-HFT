{
 "cells": [
  {
   "cell_type": "markdown",
   "id": "f02d9513-9cbd-470d-98de-8866c3ec3d5b",
   "metadata": {},
   "source": [
    "<H1 style=\"color:#8B7959\">ADIA</H1>"
   ]
  },
  {
   "cell_type": "markdown",
   "id": "f8bfb767",
   "metadata": {},
   "source": [
    "<H2 style=\"color:#8B7959\">PIPELINE EXAMPLE</H2>"
   ]
  },
  {
   "cell_type": "code",
   "execution_count": 1,
   "id": "eac23efc-dcf8-40b2-89a5-b6aff3eec63f",
   "metadata": {
    "ExecuteTime": {
     "end_time": "2023-12-29T00:25:53.014330800Z",
     "start_time": "2023-12-29T00:25:52.999864200Z"
    }
   },
   "outputs": [],
   "source": [
    "import sys"
   ]
  },
  {
   "cell_type": "code",
   "execution_count": 2,
   "id": "34d1361d-e888-496d-a0f2-0f878edbebd5",
   "metadata": {
    "ExecuteTime": {
     "end_time": "2023-12-29T00:30:19.245750800Z",
     "start_time": "2023-12-29T00:30:16.963116700Z"
    }
   },
   "outputs": [],
   "source": [
    "%load_ext autoreload\n",
    "%autoreload 2\n",
    "%matplotlib inline\n",
    "\n",
    "github_folder_path = r'..'  # Relative path\n",
    "if github_folder_path not in sys.path:\n",
    "    sys.path.append(github_folder_path)\n",
    "\n",
    "from L0_Library.config import *\n",
    "from L1_Dev.data_prep import DataPrep\n",
    "from L1_Dev.news import News\n",
    "from L1_Dev.clusters import Clusters\n",
    "from L1_Dev.fitting import Fitting"
   ]
  },
  {
   "cell_type": "code",
   "execution_count": 3,
   "id": "7844bbb1",
   "metadata": {},
   "outputs": [],
   "source": [
    "START_DATE = datetime(2019, 1, 1)\n",
    "END_DATE = datetime(2019, 12, 31)"
   ]
  },
  {
   "cell_type": "code",
   "execution_count": 4,
   "id": "dfd28ad4-39bb-46e4-89fe-d925c274a1ca",
   "metadata": {},
   "outputs": [],
   "source": [
    "pipeline = DataPrep(API_key='db-SEbmRhQ3ekjnrdRQLfK4iDYJhVkrL',\n",
    "                    dataset='XNAS.ITCH',\n",
    "                    start_date=datetime(2022, 2, 1),  # Might be good to use datetime.date\n",
    "                    start_hour=9,\n",
    "                    start_minute=30,\n",
    "                    end_date=datetime(2022, 2, 5),\n",
    "                    end_hour=16,\n",
    "                    end_minute=0,\n",
    "                    time_zone='US/Eastern')"
   ]
  },
  {
   "cell_type": "code",
   "execution_count": 5,
   "id": "a5a6999e",
   "metadata": {},
   "outputs": [],
   "source": [
    "pipeline_news = News(base_url='https://stocknewsapi.com/api/v1',\n",
    "                     API_key='7vjl2kzbnxdltdz2hxixyzhbc07yltk4keyh5az9',\n",
    "                     start_date=datetime(2019, 1, 1),\n",
    "                     end_date=datetime(2020, 3, 7))"
   ]
  },
  {
   "cell_type": "code",
   "execution_count": 6,
   "id": "4292eefc",
   "metadata": {},
   "outputs": [],
   "source": [
    "clusters = Clusters()"
   ]
  },
  {
   "cell_type": "code",
   "execution_count": 7,
   "id": "ce701a01",
   "metadata": {},
   "outputs": [],
   "source": [
    "fitting = Fitting()"
   ]
  },
  {
   "cell_type": "markdown",
   "id": "209bdd20",
   "metadata": {},
   "source": [
    "<H3 style=\"color:#8B7959\">LOB DATA</H3>"
   ]
  },
  {
   "cell_type": "code",
   "execution_count": 16,
   "id": "05bd0dec",
   "metadata": {},
   "outputs": [
    {
     "name": "stderr",
     "output_type": "stream",
     "text": [
      "Processing: 100%|█████████████████████████████████████████████████████| 5/5 [00:07<00:00,  1.43s/it]\n"
     ]
    },
    {
     "data": {
      "text/html": [
       "<div>\n",
       "<style scoped>\n",
       "    .dataframe tbody tr th:only-of-type {\n",
       "        vertical-align: middle;\n",
       "    }\n",
       "\n",
       "    .dataframe tbody tr th {\n",
       "        vertical-align: top;\n",
       "    }\n",
       "\n",
       "    .dataframe thead th {\n",
       "        text-align: right;\n",
       "    }\n",
       "</style>\n",
       "<table border=\"1\" class=\"dataframe\">\n",
       "  <thead>\n",
       "    <tr style=\"text-align: right;\">\n",
       "      <th></th>\n",
       "      <th>symbol</th>\n",
       "      <th>open</th>\n",
       "      <th>high</th>\n",
       "      <th>low</th>\n",
       "      <th>close</th>\n",
       "      <th>volume</th>\n",
       "    </tr>\n",
       "    <tr>\n",
       "      <th>ts_event</th>\n",
       "      <th></th>\n",
       "      <th></th>\n",
       "      <th></th>\n",
       "      <th></th>\n",
       "      <th></th>\n",
       "      <th></th>\n",
       "    </tr>\n",
       "  </thead>\n",
       "  <tbody>\n",
       "    <tr>\n",
       "      <th>2022-02-01 09:30:00</th>\n",
       "      <td>BAC</td>\n",
       "      <td>46.20000</td>\n",
       "      <td>46.22000</td>\n",
       "      <td>45.96000</td>\n",
       "      <td>46.10000</td>\n",
       "      <td>53675</td>\n",
       "    </tr>\n",
       "    <tr>\n",
       "      <th>2022-02-01 09:31:00</th>\n",
       "      <td>BAC</td>\n",
       "      <td>46.09000</td>\n",
       "      <td>46.10500</td>\n",
       "      <td>45.91000</td>\n",
       "      <td>45.92000</td>\n",
       "      <td>24824</td>\n",
       "    </tr>\n",
       "    <tr>\n",
       "      <th>2022-02-01 09:32:00</th>\n",
       "      <td>BAC</td>\n",
       "      <td>45.92000</td>\n",
       "      <td>46.03000</td>\n",
       "      <td>45.91000</td>\n",
       "      <td>45.99000</td>\n",
       "      <td>19067</td>\n",
       "    </tr>\n",
       "    <tr>\n",
       "      <th>2022-02-01 09:33:00</th>\n",
       "      <td>BAC</td>\n",
       "      <td>46.03000</td>\n",
       "      <td>46.03000</td>\n",
       "      <td>45.94000</td>\n",
       "      <td>46.01000</td>\n",
       "      <td>15901</td>\n",
       "    </tr>\n",
       "    <tr>\n",
       "      <th>2022-02-01 09:34:00</th>\n",
       "      <td>BAC</td>\n",
       "      <td>46.01000</td>\n",
       "      <td>46.13000</td>\n",
       "      <td>45.97000</td>\n",
       "      <td>46.12000</td>\n",
       "      <td>14341</td>\n",
       "    </tr>\n",
       "    <tr>\n",
       "      <th>...</th>\n",
       "      <td>...</td>\n",
       "      <td>...</td>\n",
       "      <td>...</td>\n",
       "      <td>...</td>\n",
       "      <td>...</td>\n",
       "      <td>...</td>\n",
       "    </tr>\n",
       "    <tr>\n",
       "      <th>2022-02-04 15:55:00</th>\n",
       "      <td>BAC</td>\n",
       "      <td>48.49000</td>\n",
       "      <td>48.49000</td>\n",
       "      <td>48.42500</td>\n",
       "      <td>48.43000</td>\n",
       "      <td>35943</td>\n",
       "    </tr>\n",
       "    <tr>\n",
       "      <th>2022-02-04 15:56:00</th>\n",
       "      <td>BAC</td>\n",
       "      <td>48.43000</td>\n",
       "      <td>48.44000</td>\n",
       "      <td>48.40000</td>\n",
       "      <td>48.41500</td>\n",
       "      <td>40654</td>\n",
       "    </tr>\n",
       "    <tr>\n",
       "      <th>2022-02-04 15:57:00</th>\n",
       "      <td>BAC</td>\n",
       "      <td>48.42000</td>\n",
       "      <td>48.43000</td>\n",
       "      <td>48.39000</td>\n",
       "      <td>48.40000</td>\n",
       "      <td>32783</td>\n",
       "    </tr>\n",
       "    <tr>\n",
       "      <th>2022-02-04 15:58:00</th>\n",
       "      <td>BAC</td>\n",
       "      <td>48.40500</td>\n",
       "      <td>48.41000</td>\n",
       "      <td>48.37000</td>\n",
       "      <td>48.38000</td>\n",
       "      <td>34292</td>\n",
       "    </tr>\n",
       "    <tr>\n",
       "      <th>2022-02-04 15:59:00</th>\n",
       "      <td>BAC</td>\n",
       "      <td>48.38000</td>\n",
       "      <td>48.38000</td>\n",
       "      <td>48.28000</td>\n",
       "      <td>48.29000</td>\n",
       "      <td>82088</td>\n",
       "    </tr>\n",
       "  </tbody>\n",
       "</table>\n",
       "<p>1559 rows × 6 columns</p>\n",
       "</div>"
      ],
      "text/plain": [
       "                    symbol     open     high      low    close  volume\n",
       "ts_event                                                              \n",
       "2022-02-01 09:30:00    BAC 46.20000 46.22000 45.96000 46.10000   53675\n",
       "2022-02-01 09:31:00    BAC 46.09000 46.10500 45.91000 45.92000   24824\n",
       "2022-02-01 09:32:00    BAC 45.92000 46.03000 45.91000 45.99000   19067\n",
       "2022-02-01 09:33:00    BAC 46.03000 46.03000 45.94000 46.01000   15901\n",
       "2022-02-01 09:34:00    BAC 46.01000 46.13000 45.97000 46.12000   14341\n",
       "...                    ...      ...      ...      ...      ...     ...\n",
       "2022-02-04 15:55:00    BAC 48.49000 48.49000 48.42500 48.43000   35943\n",
       "2022-02-04 15:56:00    BAC 48.43000 48.44000 48.40000 48.41500   40654\n",
       "2022-02-04 15:57:00    BAC 48.42000 48.43000 48.39000 48.40000   32783\n",
       "2022-02-04 15:58:00    BAC 48.40500 48.41000 48.37000 48.38000   34292\n",
       "2022-02-04 15:59:00    BAC 48.38000 48.38000 48.28000 48.29000   82088\n",
       "\n",
       "[1559 rows x 6 columns]"
      ]
     },
     "execution_count": 16,
     "metadata": {},
     "output_type": "execute_result"
    }
   ],
   "source": [
    "# Get data from DataBento\n",
    "\n",
    "## LOB/tick data\n",
    "# df_lob_data, trading_days, trading_dates = pipeline.get_data_mbp('MBTC')\n",
    "\n",
    "## OHLCV data\n",
    "df_lob_data, trading_days, trading_dates = pipeline.get_data_ohlcv(symbol='BAC')\n",
    "\n",
    "df_lob_data"
   ]
  },
  {
   "cell_type": "markdown",
   "id": "d59f1efe",
   "metadata": {},
   "source": [
    "<H3 style=\"color:#8B7959\">PRICES</H3>"
   ]
  },
  {
   "cell_type": "code",
   "execution_count": 17,
   "id": "57f39e68",
   "metadata": {},
   "outputs": [
    {
     "data": {
      "text/html": [
       "<div>\n",
       "<style scoped>\n",
       "    .dataframe tbody tr th:only-of-type {\n",
       "        vertical-align: middle;\n",
       "    }\n",
       "\n",
       "    .dataframe tbody tr th {\n",
       "        vertical-align: top;\n",
       "    }\n",
       "\n",
       "    .dataframe thead th {\n",
       "        text-align: right;\n",
       "    }\n",
       "</style>\n",
       "<table border=\"1\" class=\"dataframe\">\n",
       "  <thead>\n",
       "    <tr style=\"text-align: right;\">\n",
       "      <th>Date</th>\n",
       "      <th>2022-02-01</th>\n",
       "      <th>2022-02-02</th>\n",
       "      <th>2022-02-03</th>\n",
       "      <th>2022-02-04</th>\n",
       "    </tr>\n",
       "    <tr>\n",
       "      <th>Hour</th>\n",
       "      <th></th>\n",
       "      <th></th>\n",
       "      <th></th>\n",
       "      <th></th>\n",
       "    </tr>\n",
       "  </thead>\n",
       "  <tbody>\n",
       "    <tr>\n",
       "      <th>09:30:00</th>\n",
       "      <td>46.10000</td>\n",
       "      <td>46.80000</td>\n",
       "      <td>47.13000</td>\n",
       "      <td>47.06000</td>\n",
       "    </tr>\n",
       "    <tr>\n",
       "      <th>09:31:00</th>\n",
       "      <td>45.92000</td>\n",
       "      <td>46.75000</td>\n",
       "      <td>47.09000</td>\n",
       "      <td>47.12000</td>\n",
       "    </tr>\n",
       "    <tr>\n",
       "      <th>09:32:00</th>\n",
       "      <td>45.99000</td>\n",
       "      <td>46.79000</td>\n",
       "      <td>46.97000</td>\n",
       "      <td>47.06000</td>\n",
       "    </tr>\n",
       "    <tr>\n",
       "      <th>09:33:00</th>\n",
       "      <td>46.01000</td>\n",
       "      <td>46.84000</td>\n",
       "      <td>46.99000</td>\n",
       "      <td>46.85000</td>\n",
       "    </tr>\n",
       "    <tr>\n",
       "      <th>09:34:00</th>\n",
       "      <td>46.12000</td>\n",
       "      <td>46.72000</td>\n",
       "      <td>46.80000</td>\n",
       "      <td>46.76000</td>\n",
       "    </tr>\n",
       "    <tr>\n",
       "      <th>...</th>\n",
       "      <td>...</td>\n",
       "      <td>...</td>\n",
       "      <td>...</td>\n",
       "      <td>...</td>\n",
       "    </tr>\n",
       "    <tr>\n",
       "      <th>15:55:00</th>\n",
       "      <td>47.01000</td>\n",
       "      <td>46.87000</td>\n",
       "      <td>46.50000</td>\n",
       "      <td>48.43000</td>\n",
       "    </tr>\n",
       "    <tr>\n",
       "      <th>15:56:00</th>\n",
       "      <td>47.00500</td>\n",
       "      <td>46.88500</td>\n",
       "      <td>46.44000</td>\n",
       "      <td>48.41500</td>\n",
       "    </tr>\n",
       "    <tr>\n",
       "      <th>15:57:00</th>\n",
       "      <td>46.97500</td>\n",
       "      <td>46.89500</td>\n",
       "      <td>46.42500</td>\n",
       "      <td>48.40000</td>\n",
       "    </tr>\n",
       "    <tr>\n",
       "      <th>15:58:00</th>\n",
       "      <td>46.97500</td>\n",
       "      <td>46.87000</td>\n",
       "      <td>46.46500</td>\n",
       "      <td>48.38000</td>\n",
       "    </tr>\n",
       "    <tr>\n",
       "      <th>15:59:00</th>\n",
       "      <td>46.94000</td>\n",
       "      <td>46.88000</td>\n",
       "      <td>46.43000</td>\n",
       "      <td>48.29000</td>\n",
       "    </tr>\n",
       "  </tbody>\n",
       "</table>\n",
       "<p>390 rows × 4 columns</p>\n",
       "</div>"
      ],
      "text/plain": [
       "Date      2022-02-01  2022-02-02  2022-02-03  2022-02-04\n",
       "Hour                                                    \n",
       "09:30:00    46.10000    46.80000    47.13000    47.06000\n",
       "09:31:00    45.92000    46.75000    47.09000    47.12000\n",
       "09:32:00    45.99000    46.79000    46.97000    47.06000\n",
       "09:33:00    46.01000    46.84000    46.99000    46.85000\n",
       "09:34:00    46.12000    46.72000    46.80000    46.76000\n",
       "...              ...         ...         ...         ...\n",
       "15:55:00    47.01000    46.87000    46.50000    48.43000\n",
       "15:56:00    47.00500    46.88500    46.44000    48.41500\n",
       "15:57:00    46.97500    46.89500    46.42500    48.40000\n",
       "15:58:00    46.97500    46.87000    46.46500    48.38000\n",
       "15:59:00    46.94000    46.88000    46.43000    48.29000\n",
       "\n",
       "[390 rows x 4 columns]"
      ]
     },
     "execution_count": 17,
     "metadata": {},
     "output_type": "execute_result"
    }
   ],
   "source": [
    "# Calculate prices\n",
    "\n",
    "## LOB/tick data\n",
    "# df_prices = pipeline.mid_price(df_input=df_lob_data, resample_freq='1T', type_mid='vwmp', drop_na=False)\n",
    "\n",
    "## OHLCV data (Improve so that always creates index between 9:30 and 15:59)\n",
    "df_prices = pipeline.price_ohlc(df_input=df_lob_data, price_type='close', resample_freq='1T', drop_na=False)\n",
    "\n",
    "df_prices"
   ]
  },
  {
   "cell_type": "code",
   "execution_count": 20,
   "id": "88756cde",
   "metadata": {},
   "outputs": [
    {
     "data": {
      "text/plain": [
       "        ts_event           \n",
       "symbol  2022-02-01 09:30:00      BAC\n",
       "        2022-02-01 09:31:00      BAC\n",
       "        2022-02-01 09:32:00      BAC\n",
       "        2022-02-01 09:33:00      BAC\n",
       "        2022-02-01 09:34:00      BAC\n",
       "                               ...  \n",
       "volume  2022-02-04 15:55:00    35943\n",
       "        2022-02-04 15:56:00    40654\n",
       "        2022-02-04 15:57:00    32783\n",
       "        2022-02-04 15:58:00    34292\n",
       "        2022-02-04 15:59:00    82088\n",
       "Length: 9354, dtype: object"
      ]
     },
     "execution_count": 20,
     "metadata": {},
     "output_type": "execute_result"
    }
   ],
   "source": [
    "df_lob_data.unstack()"
   ]
  },
  {
   "cell_type": "markdown",
   "id": "a1ff367e",
   "metadata": {},
   "source": [
    "<H3 style=\"color:#8B7959\">RETURNS</H3>"
   ]
  },
  {
   "cell_type": "code",
   "execution_count": 18,
   "id": "0951cd09",
   "metadata": {},
   "outputs": [
    {
     "data": {
      "text/html": [
       "<div>\n",
       "<style scoped>\n",
       "    .dataframe tbody tr th:only-of-type {\n",
       "        vertical-align: middle;\n",
       "    }\n",
       "\n",
       "    .dataframe tbody tr th {\n",
       "        vertical-align: top;\n",
       "    }\n",
       "\n",
       "    .dataframe thead th {\n",
       "        text-align: right;\n",
       "    }\n",
       "</style>\n",
       "<table border=\"1\" class=\"dataframe\">\n",
       "  <thead>\n",
       "    <tr style=\"text-align: right;\">\n",
       "      <th>Date</th>\n",
       "      <th>2022-02-01</th>\n",
       "      <th>2022-02-02</th>\n",
       "      <th>2022-02-03</th>\n",
       "      <th>2022-02-04</th>\n",
       "    </tr>\n",
       "    <tr>\n",
       "      <th>Hour</th>\n",
       "      <th></th>\n",
       "      <th></th>\n",
       "      <th></th>\n",
       "      <th></th>\n",
       "    </tr>\n",
       "  </thead>\n",
       "  <tbody>\n",
       "    <tr>\n",
       "      <th>09:30:00</th>\n",
       "      <td>NaN</td>\n",
       "      <td>NaN</td>\n",
       "      <td>NaN</td>\n",
       "      <td>NaN</td>\n",
       "    </tr>\n",
       "    <tr>\n",
       "      <th>09:31:00</th>\n",
       "      <td>-0.00391</td>\n",
       "      <td>-0.00107</td>\n",
       "      <td>-0.00085</td>\n",
       "      <td>0.00127</td>\n",
       "    </tr>\n",
       "    <tr>\n",
       "      <th>09:32:00</th>\n",
       "      <td>0.00152</td>\n",
       "      <td>0.00086</td>\n",
       "      <td>-0.00255</td>\n",
       "      <td>-0.00127</td>\n",
       "    </tr>\n",
       "    <tr>\n",
       "      <th>09:33:00</th>\n",
       "      <td>0.00043</td>\n",
       "      <td>0.00107</td>\n",
       "      <td>0.00043</td>\n",
       "      <td>-0.00447</td>\n",
       "    </tr>\n",
       "    <tr>\n",
       "      <th>09:34:00</th>\n",
       "      <td>0.00239</td>\n",
       "      <td>-0.00257</td>\n",
       "      <td>-0.00405</td>\n",
       "      <td>-0.00192</td>\n",
       "    </tr>\n",
       "    <tr>\n",
       "      <th>...</th>\n",
       "      <td>...</td>\n",
       "      <td>...</td>\n",
       "      <td>...</td>\n",
       "      <td>...</td>\n",
       "    </tr>\n",
       "    <tr>\n",
       "      <th>15:55:00</th>\n",
       "      <td>0.00000</td>\n",
       "      <td>0.00011</td>\n",
       "      <td>0.00151</td>\n",
       "      <td>-0.00124</td>\n",
       "    </tr>\n",
       "    <tr>\n",
       "      <th>15:56:00</th>\n",
       "      <td>-0.00011</td>\n",
       "      <td>0.00032</td>\n",
       "      <td>-0.00129</td>\n",
       "      <td>-0.00031</td>\n",
       "    </tr>\n",
       "    <tr>\n",
       "      <th>15:57:00</th>\n",
       "      <td>-0.00064</td>\n",
       "      <td>0.00021</td>\n",
       "      <td>-0.00032</td>\n",
       "      <td>-0.00031</td>\n",
       "    </tr>\n",
       "    <tr>\n",
       "      <th>15:58:00</th>\n",
       "      <td>0.00000</td>\n",
       "      <td>-0.00053</td>\n",
       "      <td>0.00086</td>\n",
       "      <td>-0.00041</td>\n",
       "    </tr>\n",
       "    <tr>\n",
       "      <th>15:59:00</th>\n",
       "      <td>-0.00075</td>\n",
       "      <td>0.00021</td>\n",
       "      <td>-0.00075</td>\n",
       "      <td>-0.00186</td>\n",
       "    </tr>\n",
       "  </tbody>\n",
       "</table>\n",
       "<p>390 rows × 4 columns</p>\n",
       "</div>"
      ],
      "text/plain": [
       "Date      2022-02-01  2022-02-02  2022-02-03  2022-02-04\n",
       "Hour                                                    \n",
       "09:30:00         NaN         NaN         NaN         NaN\n",
       "09:31:00    -0.00391    -0.00107    -0.00085     0.00127\n",
       "09:32:00     0.00152     0.00086    -0.00255    -0.00127\n",
       "09:33:00     0.00043     0.00107     0.00043    -0.00447\n",
       "09:34:00     0.00239    -0.00257    -0.00405    -0.00192\n",
       "...              ...         ...         ...         ...\n",
       "15:55:00     0.00000     0.00011     0.00151    -0.00124\n",
       "15:56:00    -0.00011     0.00032    -0.00129    -0.00031\n",
       "15:57:00    -0.00064     0.00021    -0.00032    -0.00031\n",
       "15:58:00     0.00000    -0.00053     0.00086    -0.00041\n",
       "15:59:00    -0.00075     0.00021    -0.00075    -0.00186\n",
       "\n",
       "[390 rows x 4 columns]"
      ]
     },
     "execution_count": 18,
     "metadata": {},
     "output_type": "execute_result"
    }
   ],
   "source": [
    "# Calculate returns\n",
    "df_returns = pipeline.returns(df_input=df_prices)\n",
    "df_returns"
   ]
  },
  {
   "cell_type": "code",
   "execution_count": null,
   "id": "5ef64f65",
   "metadata": {},
   "outputs": [],
   "source": [
    "import math\n",
    "\n",
    "def garman_klass_volatility(high_prices, low_prices, close_prices, open_prices):\n",
    "    n = len(high_prices)\n",
    "    sum1 = 0\n",
    "    sum2 = 0\n",
    "\n",
    "    for i in range(n):\n",
    "        log_hl = math.log(high_prices[i] / low_prices[i]) ** 2\n",
    "        log_co = math.log(close_prices[i] / open_prices[i]) ** 2\n",
    "        sum1 += log_hl\n",
    "        sum2 += log_co\n",
    "\n",
    "    volatility = math.sqrt((1/n) * sum1 - (2/n) * sum2)\n",
    "    return volatility\n",
    "\n",
    "# Example usage\n",
    "high_prices = pd.Series([50.0, 51.0, 52.0, 53.0, 54.0])\n",
    "low_prices = pd.Series([48.0, 49.0, 50.0, 51.0, 52.0])\n",
    "close_prices = pd.Series([49.0, 50.0, 51.0, 52.0, 53.0])\n",
    "open_prices = pd.Series([49.5, 50.5, 51.5, 52.5, 53.5])\n",
    "\n",
    "volatility = garman_klass_volatility(high_prices, low_prices, close_prices, open_prices)\n",
    "print(f\"Garman-Klass Volatility: {volatility}\")\n"
   ]
  },
  {
   "cell_type": "code",
   "execution_count": null,
   "id": "ab9162ae",
   "metadata": {},
   "outputs": [],
   "source": [
    "df_temp = .unstack()\n",
    "df_temp.dropna(inplace=True)\n",
    "# Calculate the rolling bipower variation using a lambda function\n",
    "df_temp = df_temp.rolling(window=K).apply(lambda x: self.bipower_variation(x, K=K))\n",
    "df_temp = df_temp.reset_index()\n",
    "df_temp.rename(columns={0: 'bipower_variation'}, inplace=True)\n",
    "df_result = df_input.unstack().reset_index().merge(df_temp, on=['Date', 'Hour'], how='left').drop(0, axis=1)\n",
    "df_result = df_result.pivot(index='Hour', columns='Date', values=f'bipower_variation')\n",
    "\n",
    "pd.options.display.float_format = '{:,.10f}'.format"
   ]
  },
  {
   "cell_type": "markdown",
   "id": "9de976fd",
   "metadata": {},
   "source": [
    "<H3 style=\"color:#8B7959\">BIPOWER VARIATION</H3>"
   ]
  },
  {
   "cell_type": "code",
   "execution_count": null,
   "id": "19d28f02",
   "metadata": {},
   "outputs": [],
   "source": [
    "# Calculate bipower variation\n",
    "df_bipower_variation = pipeline.rolling_bipower_variation(df_input=df_returns, K=390)\n",
    "df_bipower_variation"
   ]
  },
  {
   "cell_type": "markdown",
   "id": "48c1cc6f",
   "metadata": {},
   "source": [
    "<H3 style=\"color:#8B7959\">PERIODICITY</H3>"
   ]
  },
  {
   "cell_type": "code",
   "execution_count": null,
   "id": "b9417e65",
   "metadata": {},
   "outputs": [],
   "source": [
    "# Calculate periodicity\n",
    "df_std_returns_1 = df_returns / np.sqrt(df_bipower_variation)\n",
    "df_f0 = pipeline.df_periodicity(df_input=df_std_returns_1, threshold=16)\n",
    "df_std_returns_2 = df_std_returns_1 / df_f0\n",
    "df_f1 = pipeline.df_periodicity(df_input=df_std_returns_2, threshold=6.635)\n",
    "df_f = df_f0 * df_f1\n",
    "df_f"
   ]
  },
  {
   "cell_type": "code",
   "execution_count": null,
   "id": "603fcbc4",
   "metadata": {},
   "outputs": [],
   "source": [
    "# Plot periodicity\n",
    "sns.set_style(\"whitegrid\")\n",
    "plt.scatter(pd.to_datetime(df_f0.index, format='%H:%M:%S'), df_f0.iloc[:, 1], label='f_0', marker='o')\n",
    "plt.scatter(pd.to_datetime(df_f.index, format='%H:%M:%S'), df_f.iloc[:, 1], label='f', marker='o')\n",
    "plt.gca().xaxis.set_major_formatter(mdates.DateFormatter('%H:%M'))\n",
    "plt.gca().xaxis.set_major_locator(mdates.HourLocator(interval=1))\n",
    "plt.xticks(rotation=0)\n",
    "plt.xlabel('Market Hour')\n",
    "plt.ylabel('Periodicity')\n",
    "plt.title('Periodicity by Minute')\n",
    "plt.legend()\n",
    "plt.tight_layout()\n",
    "plt.show()"
   ]
  },
  {
   "cell_type": "markdown",
   "id": "5029c370",
   "metadata": {},
   "source": [
    "<H3 style=\"color:#8B7959\">JUMP SCORE</H3>"
   ]
  },
  {
   "cell_type": "code",
   "execution_count": null,
   "id": "7c93e5e9",
   "metadata": {},
   "outputs": [],
   "source": [
    "# Calculate jump score\n",
    "df_jump_score = pipeline.jump_score(df_returns=df_returns, df_bipower_variation=df_bipower_variation, df_f=df_f)\n",
    "df_jump_score"
   ]
  },
  {
   "cell_type": "code",
   "execution_count": null,
   "id": "92c518af",
   "metadata": {},
   "outputs": [],
   "source": [
    "# Calculate quantiles and generate the QQ plot\n",
    "fig, axes = plt.subplots(nrows=1, ncols=4, figsize=(12, 4))\n",
    "stats.probplot(df_returns.unstack().dropna(), dist='norm', plot=axes[0])\n",
    "axes[0].set_title('Returns QQ Plot')\n",
    "axes[0].set_ylabel('Ordered Values')\n",
    "stats.probplot(df_std_returns_1.unstack().dropna(), dist='norm', plot=axes[1])\n",
    "axes[1].set_title('Std Returns #1 QQ Plot')\n",
    "axes[1].set_ylabel('')\n",
    "stats.probplot(df_std_returns_2.unstack().dropna(), dist='norm', plot=axes[2])\n",
    "axes[2].set_title('Std Returns #2 QQ Plot')\n",
    "axes[2].set_ylabel('')\n",
    "stats.probplot(df_jump_score.unstack().dropna(), dist='norm', plot=axes[3])\n",
    "axes[3].set_title('Jump Score QQ Plot')\n",
    "axes[3].set_ylabel('')\n",
    "plt.show()"
   ]
  },
  {
   "cell_type": "markdown",
   "id": "5de66542",
   "metadata": {},
   "source": [
    "<H3 style=\"color:#8B7959\">JUMPS</H3>"
   ]
  },
  {
   "cell_type": "code",
   "execution_count": null,
   "id": "a6ec1cfe",
   "metadata": {},
   "outputs": [],
   "source": [
    "# Get jumps\n",
    "df_jumps = pipeline.get_jumps(df_input=df_jump_score)\n",
    "print(f'Total Number of Jumps Detected: {df_jumps.sum().sum()}')\n",
    "pd.DataFrame(df_jumps.unstack()[df_jumps.unstack() == 1]).rename(columns={0: 'Jump'})\n",
    "\n",
    "# Filter jumps\n",
    "# df_jumps[(df_jumps.index < pd.to_datetime('09:37:00').time())]\n",
    "# df_jumps.loc[pd.to_datetime('09:37:00').time(), '2019-01-03']"
   ]
  },
  {
   "cell_type": "code",
   "execution_count": null,
   "id": "c4a567ca",
   "metadata": {},
   "outputs": [],
   "source": [
    "l_jumps_timestamp = clusters.jumps_timestamp(df_input=df_jumps)\n",
    "iter_jumps_timestamp = iter(l_jumps_timestamp)"
   ]
  },
  {
   "cell_type": "code",
   "execution_count": null,
   "id": "a41a0ff4",
   "metadata": {},
   "outputs": [],
   "source": [
    "# plot_date = 3\n",
    "plot_date = l_jumps_timestamp.index(next(iter_jumps_timestamp))\n",
    "\n",
    "ax = abs(df_jump_score[l_jumps_timestamp[plot_date]]).plot(ylabel='Jump Score',\n",
    "                                      \n",
    "                                                           title=f'Jump Scores on {l_jumps_timestamp[plot_date]}', alpha=0.7)\n",
    "markers = [i if i > 4.36 else np.nan for i in abs(df_jump_score[l_jumps_timestamp[plot_date]])]\n",
    "ax.scatter(df_jump_score.index, markers, color='r')\n",
    "ax.axhline(y=4.36, color='red', linestyle='--', lw=0.5, label='Threshold')\n",
    "plt.show()"
   ]
  },
  {
   "cell_type": "markdown",
   "id": "1748d871",
   "metadata": {},
   "source": [
    "<H3 style=\"color:#8B7959\">JUMPS INTER-TIMES</H3>"
   ]
  },
  {
   "cell_type": "code",
   "execution_count": null,
   "id": "062a383a",
   "metadata": {},
   "outputs": [],
   "source": [
    "df_inter_times = clusters.calculate_jump_inter_times(df_input=df_jumps, list_input=l_jumps_timestamp)\n",
    "pd.DataFrame(df_inter_times.unstack()[df_inter_times.unstack() > 0]).rename(columns={0: 'Jump Inter-Times'})"
   ]
  },
  {
   "cell_type": "markdown",
   "id": "749aa603",
   "metadata": {},
   "source": [
    "<H3 style=\"color:#8B7959\">BERNOULLI HYPOTHESIS-TEST IMPLIED PROBABILITY</H3>"
   ]
  },
  {
   "cell_type": "code",
   "execution_count": null,
   "id": "340b040c",
   "metadata": {},
   "outputs": [],
   "source": [
    "df_bernoulli_p = clusters.bernoulli_trials_p(df_input=df_jumps, rolling_window=7780, epsilon=0.05) # Fix prob 0 which makes threshold inf\n",
    "pd.DataFrame(df_bernoulli_p.unstack()[df_bernoulli_p.unstack() > 0]).rename(columns={0: 'Bernoulli P'})"
   ]
  },
  {
   "cell_type": "markdown",
   "id": "fe991e29",
   "metadata": {},
   "source": [
    "<H3 style=\"color:#8B7959\">BERNOULLI HYPOTHESIS-TEST IMPLIED THRESHOLD</H3>"
   ]
  },
  {
   "cell_type": "code",
   "execution_count": null,
   "id": "f4d32b29",
   "metadata": {},
   "outputs": [],
   "source": [
    "df_threshold = clusters.bernoulli_hypothesis_threshold(df_input=df_bernoulli_p, epsilon=0.05)\n",
    "pd.DataFrame(df_threshold.unstack()[df_threshold.unstack() > 0]).rename(columns={0: 'Bernoulli P'})"
   ]
  },
  {
   "cell_type": "code",
   "execution_count": null,
   "id": "9efc58d4",
   "metadata": {},
   "outputs": [],
   "source": [
    "df_threshold.unstack().dropna()[df_threshold.unstack().dropna() == np.inf]"
   ]
  },
  {
   "cell_type": "markdown",
   "id": "4370b15f",
   "metadata": {},
   "source": [
    "<H3 style=\"color:#8B7959\">CLUSTERED JUMPS</H3>"
   ]
  },
  {
   "cell_type": "code",
   "execution_count": null,
   "id": "97cbb915",
   "metadata": {},
   "outputs": [],
   "source": [
    "df_clustered_jumps = clusters.cluster_jumps(df_jumps=df_jumps, df_inter_times=df_inter_times, df_threshold=df_threshold)\n",
    "print(f'Total Number of Jump Clusters Detected: {df_clustered_jumps.sum().sum()}')\n",
    "pd.DataFrame(df_clustered_jumps.unstack()[df_clustered_jumps.unstack() == 1]).rename(columns={0: 'Clustered Jumps'})"
   ]
  },
  {
   "cell_type": "code",
   "execution_count": null,
   "id": "e1b7e35b",
   "metadata": {},
   "outputs": [],
   "source": [
    "l_clustered_jumps_timestamp = clusters.jumps_timestamp(df_input=df_clustered_jumps)\n",
    "iter_clustered_jumps_timestamp = iter(l_clustered_jumps_timestamp)"
   ]
  },
  {
   "cell_type": "code",
   "execution_count": null,
   "id": "fa7d0c6a",
   "metadata": {},
   "outputs": [],
   "source": [
    "# plot_date = 47\n",
    "plot_date = l_clustered_jumps_timestamp.index(next(iter_clustered_jumps_timestamp))\n",
    "\n",
    "ax = abs(df_jump_score[l_clustered_jumps_timestamp[plot_date]]).plot(ylabel='Jump Score',\n",
    "                                                                     title=f'Clustered Jump Scores on {l_clustered_jumps_timestamp[plot_date]}',\n",
    "                                                                     alpha=0.7)\n",
    "markers = [value if (value > 4.36) & (df_clustered_jumps[l_clustered_jumps_timestamp[plot_date]].iloc[index] == 1) \\\n",
    "           else np.nan for index, value in enumerate(abs(df_jump_score[l_clustered_jumps_timestamp[plot_date]]))]\n",
    "ax.scatter(df_jump_score.index, markers, color='r')\n",
    "ax.axhline(y=4.36, color='red', linestyle='--', lw=0.5, label='Threshold')\n",
    "plt.show()"
   ]
  },
  {
   "cell_type": "markdown",
   "id": "1a2b0966",
   "metadata": {},
   "source": [
    "<H3 style=\"color:#8B7959\">JUMP SERIES</H3>"
   ]
  },
  {
   "cell_type": "code",
   "execution_count": null,
   "id": "96ce5187",
   "metadata": {},
   "outputs": [],
   "source": [
    "dicf_jumps_timestamp, dict_jump_series = fitting.jump_series(df_input=df_clustered_jumps, df_jump_score=df_jump_score, \n",
    "                                                             input_list=l_clustered_jumps_timestamp, window_size=160)"
   ]
  },
  {
   "cell_type": "markdown",
   "id": "388f5519",
   "metadata": {},
   "source": [
    "<H3 style=\"color:#8B7959\">JUMP FITTING</H3>"
   ]
  },
  {
   "cell_type": "code",
   "execution_count": null,
   "id": "9b4dc9b2",
   "metadata": {},
   "outputs": [],
   "source": [
    "dates_iter = iter(list(dicf_jumps_timestamp.keys()))"
   ]
  },
  {
   "cell_type": "code",
   "execution_count": null,
   "id": "d7dcac60",
   "metadata": {},
   "outputs": [],
   "source": [
    "time_iter = iter([i[0] for i in dicf_jumps_timestamp.values()])"
   ]
  },
  {
   "cell_type": "code",
   "execution_count": null,
   "id": "2437599e",
   "metadata": {},
   "outputs": [],
   "source": [
    "test_double = dict_jump_series[next(dates_iter)][next(time_iter)]"
   ]
  },
  {
   "cell_type": "code",
   "execution_count": null,
   "id": "6a4a6e8d",
   "metadata": {},
   "outputs": [],
   "source": [
    "import numpy as np\n",
    "from scipy.optimize import least_squares\n",
    "import matplotlib.pyplot as plt\n",
    "\n",
    "# Define the double power-law function\n",
    "def double_power_law(params, t):\n",
    "    N_l, N_r, p_l, p_r, d = params\n",
    "    theta_l = np.where(t < 0, 1.0, 0.0)\n",
    "    theta_r = np.where(t >= 0, 1.0, 0.0)\n",
    "    return (N_l * theta_l * np.abs(t)**p_l) + (N_r * theta_r * np.abs(t)**p_r) + d\n",
    "\n",
    "# Define the residual function for the least squares optimization\n",
    "def residual(params, t, y):\n",
    "    return y - double_power_law(params, t)\n",
    "\n",
    "# Generate or load your data (replace with your own data)\n",
    "t_data = test_double.index\n",
    "y_data = test_double\n",
    "\n",
    "# Initial guess for the parameters [N_l, N_r, p_l, p_r, d]\n",
    "initial_params = [1.0, 1.0, 1.0, 1.0, 0.0]\n",
    "\n",
    "# Fit the double power-law model to your data using least_squares\n",
    "result = least_squares(residual, initial_params, args=(t_data, y_data))\n",
    "\n",
    "# Extract the fitted parameters\n",
    "N_l_fit, N_r_fit, p_l_fit, p_r_fit, d_fit = result.x\n",
    "\n",
    "# Calculate the fitted values using the original t values\n",
    "y_fit = double_power_law([N_l_fit, N_r_fit, p_l_fit, p_r_fit, d_fit], t_data)\n",
    "\n",
    "# Plot the original data and the fitted curve\n",
    "plt.plot(t_data, y_data, label='Original Data', marker='o', alpha=0.5)\n",
    "plt.plot(t_data, y_fit, 'r-', label='Fitted Curve')\n",
    "plt.title('Double Power-Law')\n",
    "plt.xlabel('t')\n",
    "plt.ylabel('Jump Score')\n",
    "plt.legend()\n",
    "plt.show()\n",
    "\n",
    "# Display the fitted parameters\n",
    "print(\"Fitted Parameters:\")\n",
    "print(f\"N_l: {N_l_fit}\")\n",
    "print(f\"N_r: {N_r_fit}\")\n",
    "print(f\"p_l: {p_l_fit}\")\n",
    "print(f\"p_r: {p_r_fit}\")\n",
    "print(f\"d: {d_fit}\")\n"
   ]
  },
  {
   "cell_type": "code",
   "execution_count": null,
   "id": "179d88e8",
   "metadata": {},
   "outputs": [],
   "source": [
    "# FITTING EXAMPLE"
   ]
  },
  {
   "cell_type": "code",
   "execution_count": null,
   "id": "be47eaa8",
   "metadata": {},
   "outputs": [],
   "source": [
    "abs(df_jump_score[l_jumps_timestamp[3]]).plot()"
   ]
  },
  {
   "cell_type": "code",
   "execution_count": null,
   "id": "d8faa293",
   "metadata": {},
   "outputs": [],
   "source": [
    "test = df_jump_score[l_jumps_timestamp[3]].dropna().reset_index(drop=True)\n",
    "test[test == -6.956441675069235]"
   ]
  },
  {
   "cell_type": "code",
   "execution_count": null,
   "id": "0ad8032a",
   "metadata": {},
   "outputs": [],
   "source": [
    "test_double = pd.DataFrame(test[252:388])\n",
    "test = pd.DataFrame(test[320:388])\n",
    "test"
   ]
  },
  {
   "cell_type": "code",
   "execution_count": null,
   "id": "2c03793c",
   "metadata": {},
   "outputs": [],
   "source": [
    "test.index = test.index - 320\n",
    "test_double.index = test_double.index - 320"
   ]
  },
  {
   "cell_type": "code",
   "execution_count": null,
   "id": "17dc1c96",
   "metadata": {},
   "outputs": [],
   "source": [
    "test = abs(test)\n",
    "test_double = abs(test_double)\n",
    "test.plot()"
   ]
  },
  {
   "cell_type": "code",
   "execution_count": null,
   "id": "01d70f71",
   "metadata": {},
   "outputs": [],
   "source": [
    "test = test.reset_index()\n",
    "test_double = test_double.reset_index()"
   ]
  },
  {
   "cell_type": "code",
   "execution_count": null,
   "id": "6c1514c1",
   "metadata": {},
   "outputs": [],
   "source": [
    "test.columns=['x', 'y']\n",
    "test_double.columns=['x', 'y']"
   ]
  },
  {
   "cell_type": "code",
   "execution_count": null,
   "id": "0b885279",
   "metadata": {},
   "outputs": [],
   "source": [
    "test_double"
   ]
  },
  {
   "cell_type": "code",
   "execution_count": null,
   "id": "2944020f",
   "metadata": {},
   "outputs": [],
   "source": [
    "# As stated in the paper, it is easier to fit the cummulative function\n",
    "test.cumsum()['x'].plot()"
   ]
  },
  {
   "cell_type": "code",
   "execution_count": null,
   "id": "04343f34",
   "metadata": {},
   "outputs": [],
   "source": [
    "import numpy as np\n",
    "from scipy.optimize import least_squares\n",
    "import matplotlib.pyplot as plt\n",
    "\n",
    "# Define the double power-law function\n",
    "def double_power_law(params, t):\n",
    "    N_l, N_r, p_l, p_r, d = params\n",
    "    theta_l = np.where(t < 0, 1.0, 0.0)\n",
    "    theta_r = np.where(t >= 0, 1.0, 0.0)\n",
    "    return (N_l * theta_l * np.abs(t)**p_l) + (N_r * theta_r * np.abs(t)**p_r) + d\n",
    "\n",
    "# Define the residual function for the least squares optimization\n",
    "def residual(params, t, y):\n",
    "    return y - double_power_law(params, t)\n",
    "\n",
    "# Generate or load your data (replace with your own data)\n",
    "t_data = test_double['x']\n",
    "y_data = test_double['y']\n",
    "\n",
    "# Initial guess for the parameters [N_l, N_r, p_l, p_r, d]\n",
    "initial_params = [1.0, 1.0, 1.0, 1.0, 0.0]\n",
    "\n",
    "# Fit the double power-law model to your data using least_squares\n",
    "result = least_squares(residual, initial_params, args=(t_data, y_data))\n",
    "\n",
    "# Extract the fitted parameters\n",
    "N_l_fit, N_r_fit, p_l_fit, p_r_fit, d_fit = result.x\n",
    "\n",
    "# Calculate the fitted values using the original t values\n",
    "y_fit = double_power_law([N_l_fit, N_r_fit, p_l_fit, p_r_fit, d_fit], t_data)\n",
    "\n",
    "# Plot the original data and the fitted curve\n",
    "plt.plot(t_data, y_data, label='Original Data', marker='o', alpha=0.5)\n",
    "plt.plot(t_data, y_fit, 'r-', label='Fitted Curve')\n",
    "plt.title('Double Power-Law')\n",
    "plt.xlabel('t')\n",
    "plt.ylabel('Jump Score')\n",
    "plt.legend()\n",
    "plt.show()\n",
    "\n",
    "# Display the fitted parameters\n",
    "print(\"Fitted Parameters:\")\n",
    "print(f\"N_l: {N_l_fit}\")\n",
    "print(f\"N_r: {N_r_fit}\")\n",
    "print(f\"p_l: {p_l_fit}\")\n",
    "print(f\"p_r: {p_r_fit}\")\n",
    "print(f\"d: {d_fit}\")\n"
   ]
  },
  {
   "cell_type": "markdown",
   "id": "7e87b4f6",
   "metadata": {},
   "source": [
    "<H3 style=\"color:#8B7959\">STORE DATA IN HDF5 FORMAT</H3>"
   ]
  },
  {
   "attachments": {
    "data_types.png": {
     "image/png": "[encoded data removed]"
    }
   },
   "cell_type": "markdown",
   "id": "9c1f7467",
   "metadata": {},
   "source": [
    "We could compare how much it would take to store the files in different formats. I pick the most efficient.\n",
    "![data_types.png](attachment:data_types.png)"
   ]
  },
  {
   "cell_type": "code",
   "execution_count": null,
   "id": "6d391ec7",
   "metadata": {},
   "outputs": [],
   "source": [
    "# WRITE\n",
    "hdf5_file_path = '../Data/TSLA_data.h5'\n",
    "\n",
    "# Write the DataFrames to the HDF5 file\n",
    "df_prices.to_hdf(hdf5_file_path, key='prices', mode='w')\n",
    "df_returns.to_hdf(hdf5_file_path, key='returns', mode='a')\n",
    "df_bipower_variation.to_hdf(hdf5_file_path, key='bipower_variation', mode='a')\n",
    "df_f0.to_hdf(hdf5_file_path, key='periodicity_0', mode='a')\n",
    "df_f1.to_hdf(hdf5_file_path, key='periodicity_1', mode='a')\n",
    "df_f.to_hdf(hdf5_file_path, key='periodicity', mode='a')\n",
    "df_jump_score.to_hdf(hdf5_file_path, key='jump_score', mode='a')\n",
    "df_jumps.to_hdf(hdf5_file_path, key='jumps', mode='a')\n",
    "\n",
    "# Create an HDF5 file and write DataFrames to it\n",
    "with h5py.File(hdf5_file_path, 'a') as hdf_file:    \n",
    "    # Add attributes to the file level\n",
    "    hdf_file.attrs['Description'] = 'HDF5 File storing data pipeline'\n",
    "    hdf_file.attrs['Start_Date'] = '01-01-2019'\n",
    "    hdf_file.attrs['End_Date'] = '01-01-2019'\n",
    "    hdf_file.attrs['Start_Time'] = '09:30'\n",
    "    hdf_file.attrs['End_Time'] = '16:00'\n",
    "    hdf_file.attrs['Time_Zone'] = 'US/Eastern'"
   ]
  },
  {
   "cell_type": "code",
   "execution_count": null,
   "id": "1b00621e",
   "metadata": {},
   "outputs": [],
   "source": [
    "# READ\n",
    "hdf5_file_path = '../Data/TSLA_data.h5'\n",
    "\n",
    "# Read the DataFrames from the HDF5 file\n",
    "df_prices = pd.read_hdf(hdf5_file_path, key='prices')\n",
    "df_returns = pd.read_hdf(hdf5_file_path, key='returns')\n",
    "df_bipower_variation = pd.read_hdf(hdf5_file_path, key='bipower_variation')\n",
    "df_f0 = pd.read_hdf(hdf5_file_path, key='periodicity_0')\n",
    "df_f1 = pd.read_hdf(hdf5_file_path, key='periodicity_1')\n",
    "df_f = pd.read_hdf(hdf5_file_path, key='periodicity')\n",
    "df_jump_score = pd.read_hdf(hdf5_file_path, key='jump_score')\n",
    "df_jumps = pd.read_hdf(hdf5_file_path, key='jumps')\n",
    "\n",
    "# Open the HDF5 file to read attributes\n",
    "with h5py.File('../Data/TSLA_data.h5', 'r') as hdf_file:\n",
    "    # Get the attributes of the root group (the file itself)\n",
    "    for attr_name, attr_value in hdf_file.attrs.items():\n",
    "        if attr_name not in ['CLASS', 'VERSION', 'PYTABLES_FORMAT_VERSION', 'TITLE']:\n",
    "            print(f\"{attr_name}: {attr_value}\")"
   ]
  },
  {
   "cell_type": "markdown",
   "id": "27d57998",
   "metadata": {},
   "source": [
    "<H3 style=\"color:#8B7959\">NEWS</H3>"
   ]
  },
  {
   "cell_type": "code",
   "execution_count": null,
   "id": "efbe9e33",
   "metadata": {},
   "outputs": [],
   "source": [
    "response = pipeline_news.get_news(symbol=['LULU'], items=4, page=1, news_type='article')"
   ]
  },
  {
   "cell_type": "code",
   "execution_count": null,
   "id": "b68ffbc4",
   "metadata": {
    "scrolled": false
   },
   "outputs": [],
   "source": [
    "try:\n",
    "    for article in response[:4]:\n",
    "        print(f\"Title: {article['title']}\")\n",
    "        print(f\"URL: {article['news_url']}\")\n",
    "        print(f\"Image URL: {article['image_url']}\")\n",
    "        print(f\"Text: {article['text']}\")\n",
    "        print(f\"Source Name: {article['source_name']}\")\n",
    "        print(f\"Date: {article['date']}\")\n",
    "        print(f\"Topics: {article['topics']}\")\n",
    "        print(f\"Sentiment: {article['sentiment']}\")\n",
    "        print(f\"Type: {article['type']}\")\n",
    "        print(f\"Tickers: {article['tickers']}\\n\")\n",
    "except requests.exceptions.HTTPError as err:\n",
    "    print(f\"An error occurred: {err}\")"
   ]
  },
  {
   "cell_type": "code",
   "execution_count": null,
   "id": "a22a7184",
   "metadata": {},
   "outputs": [],
   "source": []
  },
  {
   "cell_type": "code",
   "execution_count": null,
   "id": "6225b049",
   "metadata": {},
   "outputs": [],
   "source": []
  },
  {
   "cell_type": "markdown",
   "id": "2f6167ca",
   "metadata": {},
   "source": [
    "CLUSTERING"
   ]
  },
  {
   "cell_type": "code",
   "execution_count": null,
   "id": "8ebcb1aa",
   "metadata": {},
   "outputs": [],
   "source": [
    "df_input = df_jumps\n",
    "list_input = l_jumps_timestamp\n",
    "\n",
    "df_result = df_input.copy()\n",
    "for i in list_input:\n",
    "    if df_input[i].sum() > 1:\n",
    "        mask = np.array(df_input[i] == 1)\n",
    "        series = pd.Series(range(len(df_input[i])))[mask]\n",
    "        shifted_shifted = series - series.shift(1) - 1\n",
    "        shifted_shifted = shifted_shifted.replace(np.nan, np.inf)\n",
    "        df_result[i].iloc[shifted_shifted.index] = shifted_shifted\n",
    "    else:\n",
    "        df_result[i] = df_input[i].replace(1, np.inf)\n",
    "        \n",
    "df_inter_times = df_result"
   ]
  },
  {
   "cell_type": "code",
   "execution_count": null,
   "id": "208c4bd1",
   "metadata": {
    "scrolled": true
   },
   "outputs": [],
   "source": [
    "df_inter_times[list_input[9]].to_numpy()"
   ]
  },
  {
   "cell_type": "code",
   "execution_count": null,
   "id": "74ca5dff",
   "metadata": {},
   "outputs": [],
   "source": [
    "df_input = df_jumps\n",
    "rolling_window = 7780\n",
    "epsilon = 0.05\n",
    "\n",
    "def min_bernoulli_trials_p(row, epsilon):\n",
    "    if row['jumps'] > epsilon:\n",
    "        return epsilon\n",
    "    else:\n",
    "        return row['jumps']\n",
    "    \n",
    "df_input_unstack = df_input.unstack().reset_index().rename(columns={0: 'jumps'})\n",
    "df_input_unstack['jumps'] = np.nan\n",
    "\n",
    "s_bernoulli_trials_p = df_input.unstack().dropna().rolling(rolling_window).sum() / rolling_window\n",
    "s_bernoulli_trials_p = s_bernoulli_trials_p.reset_index().rename(columns={0: 'jumps'})\n",
    "\n",
    "df_result = pd.merge(df_input_unstack, s_bernoulli_trials_p,\n",
    "                     on=['Date', 'Hour'], how='left')[['Date', 'Hour', 'jumps_y']]\n",
    "df_result = df_result.rename(columns={'jumps_y': 'jumps'})\n",
    "\n",
    "df_result['jumps'] = df_result.apply(lambda row: min_bernoulli_trials_p(row, epsilon), axis=1)\n",
    "\n",
    "df_result = df_result.pivot(index='Hour', columns='Date', values=f'jumps')\n",
    "\n",
    "df_result"
   ]
  },
  {
   "cell_type": "code",
   "execution_count": null,
   "id": "77d35bdd",
   "metadata": {},
   "outputs": [],
   "source": [
    "df_threshold = (np.log(1 - epsilon) / np.log(1 - df_result)) - 1"
   ]
  },
  {
   "cell_type": "code",
   "execution_count": null,
   "id": "427ed23a",
   "metadata": {},
   "outputs": [],
   "source": [
    "df_threshold"
   ]
  },
  {
   "cell_type": "code",
   "execution_count": null,
   "id": "fce6f093",
   "metadata": {},
   "outputs": [],
   "source": [
    "df_clustered_jumps = df_inter_times.where(df_threshold.notna(), np.nan)\n",
    "\n",
    "df_test = df_jumps.where(df_threshold.notna(), np.nan)\n",
    "l_jumps_timestamp_test = clusters.jumps_timestamp(df_input=df_test)\n",
    "\n",
    "for i in l_jumps_timestamp_test:\n",
    "    s_inter_times = df_inter_times[i]\n",
    "    s_threshold = df_threshold[i]\n",
    "    s_clustered_jumps = df_clustered_jumps[i]\n",
    "    for j in range(len(s_inter_times)):\n",
    "        if s_inter_times[j] == np.inf:\n",
    "            s_clustered_jumps[j] = 1\n",
    "        elif s_inter_times[j] < s_threshold[j]:\n",
    "            s_clustered_jumps[j] = 0\n",
    "        elif s_inter_times[j] >= s_threshold[j]:\n",
    "            s_clustered_jumps[j] = 1\n",
    "    df_clustered_jumps[i] = s_clustered_jumps"
   ]
  },
  {
   "cell_type": "code",
   "execution_count": null,
   "id": "646289b1",
   "metadata": {},
   "outputs": [],
   "source": [
    "df_clustered_jumps"
   ]
  },
  {
   "cell_type": "code",
   "execution_count": null,
   "id": "d351d2de",
   "metadata": {},
   "outputs": [],
   "source": [
    "l_clustered_jumps_timestamp = clusters.jumps_timestamp(df_input=df_clustered_jumps)\n",
    "iter_clustered_jumps_timestamp = iter(l_clustered_jumps_timestamp)"
   ]
  },
  {
   "cell_type": "code",
   "execution_count": null,
   "id": "3a289eb3",
   "metadata": {},
   "outputs": [],
   "source": [
    "# plot_date = 47\n",
    "plot_date = l_clustered_jumps_timestamp.index(next(iter_clustered_jumps_timestamp))\n",
    "\n",
    "ax = abs(df_jump_score[l_clustered_jumps_timestamp[plot_date]]).plot(ylabel='Jump Score',\n",
    "                                                                     title=f'Clustered Jump Scores on {l_clustered_jumps_timestamp[plot_date]}',\n",
    "                                                                     alpha=0.7)\n",
    "markers = [value if (value > 4.36) & (df_clustered_jumps[l_clustered_jumps_timestamp[plot_date]].iloc[index] == 1) \\\n",
    "           else np.nan for index, value in enumerate(abs(df_jump_score[l_clustered_jumps_timestamp[plot_date]]))]\n",
    "ax.scatter(df_jump_score.index, markers, color='r')\n",
    "ax.axhline(y=4.36, color='red', linestyle='--', lw=0.5, label='Threshold')\n",
    "plt.show()"
   ]
  },
  {
   "cell_type": "code",
   "execution_count": null,
   "id": "50fd78a3",
   "metadata": {},
   "outputs": [],
   "source": []
  }
 ],
 "metadata": {
  "kernelspec": {
   "display_name": "adia",
   "language": "python",
   "name": "adia"
  },
  "language_info": {
   "codemirror_mode": {
    "name": "ipython",
    "version": 3
   },
   "file_extension": ".py",
   "mimetype": "text/x-python",
   "name": "python",
   "nbconvert_exporter": "python",
   "pygments_lexer": "ipython3",
   "version": "3.11.1"
  }
 },
 "nbformat": 4,
 "nbformat_minor": 5
}
