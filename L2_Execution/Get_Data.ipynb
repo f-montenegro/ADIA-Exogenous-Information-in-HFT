{
 "cells": [
  {
   "cell_type": "code",
   "execution_count": 1,
   "id": "b00e7809-7994-4aad-adec-1310f64d8bee",
   "metadata": {},
   "outputs": [],
   "source": [
    "%load_ext autoreload\n",
    "%autoreload 2"
   ]
  },
  {
   "cell_type": "code",
   "execution_count": 2,
   "id": "8e184472-1455-4391-bc9e-aed572f530f5",
   "metadata": {},
   "outputs": [],
   "source": [
    "import sys\n",
    "\n",
    "github_folder_path = r'..'  # Relative path\n",
    "if github_folder_path not in sys.path:\n",
    "    sys.path.append(github_folder_path)"
   ]
  },
  {
   "cell_type": "code",
   "execution_count": 3,
   "id": "0a9d1f44-cad3-4e62-898a-6f1d2879a83f",
   "metadata": {},
   "outputs": [],
   "source": [
    "from L0_Library.config import *\n",
    "from L2_Execution.data_compilation import get_data"
   ]
  },
  {
   "cell_type": "markdown",
   "id": "25630262-a7cf-4af0-b99a-c9592762e2ef",
   "metadata": {},
   "source": [
    "## Parameters"
   ]
  },
  {
   "cell_type": "code",
   "execution_count": 4,
   "id": "801d5508-1772-40c1-a3b4-73c64690c860",
   "metadata": {},
   "outputs": [],
   "source": [
    "START_DATE = datetime(2023, 1, 1)\n",
    "END_DATE = datetime(2023, 12, 31)"
   ]
  },
  {
   "cell_type": "markdown",
   "id": "ec26c290-f167-49b0-a16b-8dd538aba1e4",
   "metadata": {},
   "source": [
    "## Get Data"
   ]
  },
  {
   "cell_type": "code",
   "execution_count": 5,
   "id": "d4c290cc-5d0e-4fcb-b1f5-87fe5db06fc6",
   "metadata": {},
   "outputs": [
    {
     "name": "stdout",
     "output_type": "stream",
     "text": [
      "Databento: Prices, Metric & Jumps\n"
     ]
    },
    {
     "name": "stderr",
     "output_type": "stream",
     "text": [
      "Processing: 100%|█████████████████████████████████████████████████| 405/405 [05:01<00:00,  1.34it/s]\n"
     ]
    },
    {
     "name": "stdout",
     "output_type": "stream",
     "text": [
      "StockNewsAPI: News\n",
      "Clustering: Jumps\n",
      "Clustering: News\n",
      "Jumps Classification\n",
      "Final Compilation\n"
     ]
    }
   ],
   "source": [
    "data_BAC = get_data(START_DATE, END_DATE, ticker='BAC')"
   ]
  },
  {
   "cell_type": "code",
   "execution_count": 6,
   "id": "f8a32dbb-6fa9-44ae-9e93-6dfa4dade1bf",
   "metadata": {},
   "outputs": [
    {
     "name": "stdout",
     "output_type": "stream",
     "text": [
      "Databento: Prices, Metric & Jumps\n"
     ]
    },
    {
     "name": "stderr",
     "output_type": "stream",
     "text": [
      "Processing: 100%|█████████████████████████████████████████████████| 405/405 [05:03<00:00,  1.34it/s]\n"
     ]
    },
    {
     "name": "stdout",
     "output_type": "stream",
     "text": [
      "StockNewsAPI: News\n",
      "Clustering: Jumps\n",
      "Clustering: News\n",
      "Jumps Classification\n",
      "Final Compilation\n"
     ]
    }
   ],
   "source": [
    "data_AMZN = get_data(START_DATE, END_DATE, ticker='AMZN')"
   ]
  },
  {
   "cell_type": "markdown",
   "id": "6e029d9f-98f4-4ec9-933a-edb46e74b8da",
   "metadata": {},
   "source": [
    "## Explore Data"
   ]
  },
  {
   "cell_type": "code",
   "execution_count": 8,
   "id": "3218635f-34fd-4c96-8412-c428525d9d6b",
   "metadata": {},
   "outputs": [
    {
     "data": {
      "text/plain": [
       "dict_keys(['Jumps_Data', 'News_Data', 'Classifier_Data'])"
      ]
     },
     "execution_count": 8,
     "metadata": {},
     "output_type": "execute_result"
    }
   ],
   "source": [
    "data_BAC.keys()"
   ]
  },
  {
   "cell_type": "code",
   "execution_count": 15,
   "id": "55645fee-ea5b-41b2-a1dc-6cb47fd567ed",
   "metadata": {},
   "outputs": [
    {
     "data": {
      "text/plain": [
       "dict_keys(['prices', 'returns', 'bipower_variation', 'periodicity_bpv', 'jump_scores_bpv', 'jumps_bpv', 'jumps_list_bpv', 'gk_variation', 'periodicity_gk', 'jump_scores_gk', 'jumps_gk', 'jumps_list_gk', 'inter_times_Jump', 'bernoulli_prob', 'bernoulli_threshold', 'clustered_Jump', 'clustered_Jump_list'])"
      ]
     },
     "execution_count": 15,
     "metadata": {},
     "output_type": "execute_result"
    }
   ],
   "source": [
    "data_BAC[\"Jumps_Data\"].keys()"
   ]
  },
  {
   "cell_type": "code",
   "execution_count": 16,
   "id": "8c9457df-98a7-4278-827d-12640bef16af",
   "metadata": {},
   "outputs": [
    {
     "data": {
      "text/html": [
       "<div>\n",
       "<style scoped>\n",
       "    .dataframe tbody tr th:only-of-type {\n",
       "        vertical-align: middle;\n",
       "    }\n",
       "\n",
       "    .dataframe tbody tr th {\n",
       "        vertical-align: top;\n",
       "    }\n",
       "\n",
       "    .dataframe thead th {\n",
       "        text-align: right;\n",
       "    }\n",
       "</style>\n",
       "<table border=\"1\" class=\"dataframe\">\n",
       "  <thead>\n",
       "    <tr style=\"text-align: right;\">\n",
       "      <th></th>\n",
       "      <th></th>\n",
       "      <th>Jump</th>\n",
       "    </tr>\n",
       "    <tr>\n",
       "      <th>Date</th>\n",
       "      <th>Hour</th>\n",
       "      <th></th>\n",
       "    </tr>\n",
       "  </thead>\n",
       "  <tbody>\n",
       "    <tr>\n",
       "      <th>2023-01-03</th>\n",
       "      <th>14:45:00</th>\n",
       "      <td>1</td>\n",
       "    </tr>\n",
       "    <tr>\n",
       "      <th>2023-01-04</th>\n",
       "      <th>14:25:00</th>\n",
       "      <td>1</td>\n",
       "    </tr>\n",
       "    <tr>\n",
       "      <th>2023-01-05</th>\n",
       "      <th>13:20:00</th>\n",
       "      <td>1</td>\n",
       "    </tr>\n",
       "    <tr>\n",
       "      <th rowspan=\"2\" valign=\"top\">2023-01-13</th>\n",
       "      <th>09:59:00</th>\n",
       "      <td>1</td>\n",
       "    </tr>\n",
       "    <tr>\n",
       "      <th>10:01:00</th>\n",
       "      <td>1</td>\n",
       "    </tr>\n",
       "    <tr>\n",
       "      <th>...</th>\n",
       "      <th>...</th>\n",
       "      <td>...</td>\n",
       "    </tr>\n",
       "    <tr>\n",
       "      <th rowspan=\"2\" valign=\"top\">2023-12-20</th>\n",
       "      <th>15:10:00</th>\n",
       "      <td>1</td>\n",
       "    </tr>\n",
       "    <tr>\n",
       "      <th>15:15:00</th>\n",
       "      <td>1</td>\n",
       "    </tr>\n",
       "    <tr>\n",
       "      <th>2023-12-22</th>\n",
       "      <th>14:05:00</th>\n",
       "      <td>1</td>\n",
       "    </tr>\n",
       "    <tr>\n",
       "      <th>2023-12-26</th>\n",
       "      <th>15:25:00</th>\n",
       "      <td>1</td>\n",
       "    </tr>\n",
       "    <tr>\n",
       "      <th>2023-12-27</th>\n",
       "      <th>14:00:00</th>\n",
       "      <td>1</td>\n",
       "    </tr>\n",
       "  </tbody>\n",
       "</table>\n",
       "<p>127 rows × 1 columns</p>\n",
       "</div>"
      ],
      "text/plain": [
       "                     Jump\n",
       "Date       Hour          \n",
       "2023-01-03 14:45:00     1\n",
       "2023-01-04 14:25:00     1\n",
       "2023-01-05 13:20:00     1\n",
       "2023-01-13 09:59:00     1\n",
       "           10:01:00     1\n",
       "...                   ...\n",
       "2023-12-20 15:10:00     1\n",
       "           15:15:00     1\n",
       "2023-12-22 14:05:00     1\n",
       "2023-12-26 15:25:00     1\n",
       "2023-12-27 14:00:00     1\n",
       "\n",
       "[127 rows x 1 columns]"
      ]
     },
     "execution_count": 16,
     "metadata": {},
     "output_type": "execute_result"
    }
   ],
   "source": [
    "data_BAC[\"Jumps_Data\"][\"jumps_list_bpv\"]"
   ]
  },
  {
   "cell_type": "code",
   "execution_count": 17,
   "id": "c0374604-ffcc-4f68-877e-e04066977f87",
   "metadata": {},
   "outputs": [
    {
     "data": {
      "text/html": [
       "<div>\n",
       "<style scoped>\n",
       "    .dataframe tbody tr th:only-of-type {\n",
       "        vertical-align: middle;\n",
       "    }\n",
       "\n",
       "    .dataframe tbody tr th {\n",
       "        vertical-align: top;\n",
       "    }\n",
       "\n",
       "    .dataframe thead th {\n",
       "        text-align: right;\n",
       "    }\n",
       "</style>\n",
       "<table border=\"1\" class=\"dataframe\">\n",
       "  <thead>\n",
       "    <tr style=\"text-align: right;\">\n",
       "      <th></th>\n",
       "      <th>Date</th>\n",
       "      <th>Hour_Jump</th>\n",
       "      <th>Hour_News</th>\n",
       "      <th>News_Related</th>\n",
       "    </tr>\n",
       "  </thead>\n",
       "  <tbody>\n",
       "    <tr>\n",
       "      <th>0</th>\n",
       "      <td>2023-01-03</td>\n",
       "      <td>14:45:00</td>\n",
       "      <td>NaN</td>\n",
       "      <td>0</td>\n",
       "    </tr>\n",
       "    <tr>\n",
       "      <th>1</th>\n",
       "      <td>2023-01-04</td>\n",
       "      <td>14:25:00</td>\n",
       "      <td>NaN</td>\n",
       "      <td>0</td>\n",
       "    </tr>\n",
       "    <tr>\n",
       "      <th>2</th>\n",
       "      <td>2023-01-05</td>\n",
       "      <td>13:20:00</td>\n",
       "      <td>NaN</td>\n",
       "      <td>0</td>\n",
       "    </tr>\n",
       "    <tr>\n",
       "      <th>3</th>\n",
       "      <td>2023-01-13</td>\n",
       "      <td>09:59:00</td>\n",
       "      <td>09:47:00</td>\n",
       "      <td>1</td>\n",
       "    </tr>\n",
       "    <tr>\n",
       "      <th>4</th>\n",
       "      <td>2023-01-20</td>\n",
       "      <td>13:19:00</td>\n",
       "      <td>NaN</td>\n",
       "      <td>0</td>\n",
       "    </tr>\n",
       "    <tr>\n",
       "      <th>...</th>\n",
       "      <td>...</td>\n",
       "      <td>...</td>\n",
       "      <td>...</td>\n",
       "      <td>...</td>\n",
       "    </tr>\n",
       "    <tr>\n",
       "      <th>68</th>\n",
       "      <td>2023-12-20</td>\n",
       "      <td>12:44:00</td>\n",
       "      <td>NaN</td>\n",
       "      <td>0</td>\n",
       "    </tr>\n",
       "    <tr>\n",
       "      <th>69</th>\n",
       "      <td>2023-12-20</td>\n",
       "      <td>14:53:00</td>\n",
       "      <td>NaN</td>\n",
       "      <td>0</td>\n",
       "    </tr>\n",
       "    <tr>\n",
       "      <th>70</th>\n",
       "      <td>2023-12-22</td>\n",
       "      <td>14:05:00</td>\n",
       "      <td>NaN</td>\n",
       "      <td>0</td>\n",
       "    </tr>\n",
       "    <tr>\n",
       "      <th>71</th>\n",
       "      <td>2023-12-26</td>\n",
       "      <td>15:25:00</td>\n",
       "      <td>NaN</td>\n",
       "      <td>0</td>\n",
       "    </tr>\n",
       "    <tr>\n",
       "      <th>72</th>\n",
       "      <td>2023-12-27</td>\n",
       "      <td>14:00:00</td>\n",
       "      <td>NaN</td>\n",
       "      <td>0</td>\n",
       "    </tr>\n",
       "  </tbody>\n",
       "</table>\n",
       "<p>73 rows × 4 columns</p>\n",
       "</div>"
      ],
      "text/plain": [
       "          Date Hour_Jump Hour_News  News_Related\n",
       "0   2023-01-03  14:45:00       NaN             0\n",
       "1   2023-01-04  14:25:00       NaN             0\n",
       "2   2023-01-05  13:20:00       NaN             0\n",
       "3   2023-01-13  09:59:00  09:47:00             1\n",
       "4   2023-01-20  13:19:00       NaN             0\n",
       "..         ...       ...       ...           ...\n",
       "68  2023-12-20  12:44:00       NaN             0\n",
       "69  2023-12-20  14:53:00       NaN             0\n",
       "70  2023-12-22  14:05:00       NaN             0\n",
       "71  2023-12-26  15:25:00       NaN             0\n",
       "72  2023-12-27  14:00:00       NaN             0\n",
       "\n",
       "[73 rows x 4 columns]"
      ]
     },
     "execution_count": 17,
     "metadata": {},
     "output_type": "execute_result"
    }
   ],
   "source": [
    "data_BAC[\"Classifier_Data\"][\"jumps_news_related\"]"
   ]
  },
  {
   "cell_type": "code",
   "execution_count": null,
   "id": "12f9d645-9c55-4485-b160-b71d54dce43f",
   "metadata": {},
   "outputs": [],
   "source": []
  }
 ],
 "metadata": {
  "kernelspec": {
   "display_name": "Python 3 (ipykernel)",
   "language": "python",
   "name": "python3"
  },
  "language_info": {
   "codemirror_mode": {
    "name": "ipython",
    "version": 3
   },
   "file_extension": ".py",
   "mimetype": "text/x-python",
   "name": "python",
   "nbconvert_exporter": "python",
   "pygments_lexer": "ipython3",
   "version": "3.9.5"
  }
 },
 "nbformat": 4,
 "nbformat_minor": 5
}
