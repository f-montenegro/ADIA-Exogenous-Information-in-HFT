{
 "cells": [
  {
   "cell_type": "code",
   "execution_count": 1,
   "id": "b00e7809-7994-4aad-adec-1310f64d8bee",
   "metadata": {},
   "outputs": [],
   "source": [
    "%load_ext autoreload\n",
    "%autoreload 2"
   ]
  },
  {
   "cell_type": "code",
   "execution_count": 2,
   "id": "8e184472-1455-4391-bc9e-aed572f530f5",
   "metadata": {},
   "outputs": [],
   "source": [
    "import sys\n",
    "\n",
    "github_folder_path = r'..'  # Relative path\n",
    "if github_folder_path not in sys.path:\n",
    "    sys.path.append(github_folder_path)"
   ]
  },
  {
   "cell_type": "code",
   "execution_count": 3,
   "id": "0a9d1f44-cad3-4e62-898a-6f1d2879a83f",
   "metadata": {},
   "outputs": [],
   "source": [
    "from L0_Library.config import *\n",
    "from L2_Execution.data_compilation import get_data"
   ]
  },
  {
   "cell_type": "markdown",
   "id": "25630262-a7cf-4af0-b99a-c9592762e2ef",
   "metadata": {},
   "source": [
    "## Parameters"
   ]
  },
  {
   "cell_type": "code",
   "execution_count": 4,
   "id": "801d5508-1772-40c1-a3b4-73c64690c860",
   "metadata": {},
   "outputs": [],
   "source": [
    "START_DATE = datetime(2023, 1, 1)\n",
    "END_DATE = datetime(2023, 2, 28)\n",
    "\n",
    "TICKER = 'BAC'"
   ]
  },
  {
   "cell_type": "markdown",
   "id": "ec26c290-f167-49b0-a16b-8dd538aba1e4",
   "metadata": {},
   "source": [
    "## Get Data"
   ]
  },
  {
   "cell_type": "code",
   "execution_count": 5,
   "id": "d4c290cc-5d0e-4fcb-b1f5-87fe5db06fc6",
   "metadata": {},
   "outputs": [
    {
     "name": "stdout",
     "output_type": "stream",
     "text": [
      "Databento: Prices, Metric & Jumps\n"
     ]
    },
    {
     "name": "stderr",
     "output_type": "stream",
     "text": [
      "Processing: 100%|███████████████████████████████████████████████████| 99/99 [00:51<00:00,  1.93it/s]\n"
     ]
    },
    {
     "name": "stdout",
     "output_type": "stream",
     "text": [
      "StockNewsAPI: News\n",
      "Clustering: Jumps\n",
      "Clustering: News (Not ready yet, but printing anyway)\n",
      "Jumps Classification\n",
      "Final Compilation\n"
     ]
    }
   ],
   "source": [
    "data = get_data(START_DATE, END_DATE, TICKER)"
   ]
  },
  {
   "cell_type": "markdown",
   "id": "6e029d9f-98f4-4ec9-933a-edb46e74b8da",
   "metadata": {},
   "source": [
    "## Explore Data"
   ]
  },
  {
   "cell_type": "code",
   "execution_count": 6,
   "id": "3218635f-34fd-4c96-8412-c428525d9d6b",
   "metadata": {},
   "outputs": [
    {
     "data": {
      "text/plain": [
       "dict_keys(['Jumps_Data', 'News_Data', 'Classifier_Data'])"
      ]
     },
     "execution_count": 6,
     "metadata": {},
     "output_type": "execute_result"
    }
   ],
   "source": [
    "data.keys()"
   ]
  },
  {
   "cell_type": "code",
   "execution_count": 7,
   "id": "55645fee-ea5b-41b2-a1dc-6cb47fd567ed",
   "metadata": {},
   "outputs": [
    {
     "data": {
      "text/plain": [
       "dict_keys(['jumps_news_related'])"
      ]
     },
     "execution_count": 7,
     "metadata": {},
     "output_type": "execute_result"
    }
   ],
   "source": [
    "data[\"Classifier_Data\"].keys()"
   ]
  },
  {
   "cell_type": "code",
   "execution_count": 8,
   "id": "8c9457df-98a7-4278-827d-12640bef16af",
   "metadata": {},
   "outputs": [
    {
     "data": {
      "text/html": [
       "<div>\n",
       "<style scoped>\n",
       "    .dataframe tbody tr th:only-of-type {\n",
       "        vertical-align: middle;\n",
       "    }\n",
       "\n",
       "    .dataframe tbody tr th {\n",
       "        vertical-align: top;\n",
       "    }\n",
       "\n",
       "    .dataframe thead th {\n",
       "        text-align: right;\n",
       "    }\n",
       "</style>\n",
       "<table border=\"1\" class=\"dataframe\">\n",
       "  <thead>\n",
       "    <tr style=\"text-align: right;\">\n",
       "      <th></th>\n",
       "      <th>Date</th>\n",
       "      <th>Hour_Jump</th>\n",
       "      <th>Hour_News</th>\n",
       "      <th>News_Related</th>\n",
       "    </tr>\n",
       "  </thead>\n",
       "  <tbody>\n",
       "    <tr>\n",
       "      <th>3</th>\n",
       "      <td>2023-01-03</td>\n",
       "      <td>14:45:00</td>\n",
       "      <td>NaN</td>\n",
       "      <td>0</td>\n",
       "    </tr>\n",
       "    <tr>\n",
       "      <th>4</th>\n",
       "      <td>2023-01-04</td>\n",
       "      <td>12:58:00</td>\n",
       "      <td>12:45:00</td>\n",
       "      <td>1</td>\n",
       "    </tr>\n",
       "    <tr>\n",
       "      <th>5</th>\n",
       "      <td>2023-01-04</td>\n",
       "      <td>14:25:00</td>\n",
       "      <td>NaN</td>\n",
       "      <td>0</td>\n",
       "    </tr>\n",
       "    <tr>\n",
       "      <th>6</th>\n",
       "      <td>2023-01-04</td>\n",
       "      <td>14:25:00</td>\n",
       "      <td>NaN</td>\n",
       "      <td>0</td>\n",
       "    </tr>\n",
       "    <tr>\n",
       "      <th>7</th>\n",
       "      <td>2023-01-04</td>\n",
       "      <td>14:25:00</td>\n",
       "      <td>NaN</td>\n",
       "      <td>0</td>\n",
       "    </tr>\n",
       "    <tr>\n",
       "      <th>8</th>\n",
       "      <td>2023-01-13</td>\n",
       "      <td>09:59:00</td>\n",
       "      <td>09:47:00</td>\n",
       "      <td>1</td>\n",
       "    </tr>\n",
       "    <tr>\n",
       "      <th>9</th>\n",
       "      <td>2023-01-20</td>\n",
       "      <td>13:19:00</td>\n",
       "      <td>NaN</td>\n",
       "      <td>0</td>\n",
       "    </tr>\n",
       "    <tr>\n",
       "      <th>11</th>\n",
       "      <td>2023-01-23</td>\n",
       "      <td>12:08:00</td>\n",
       "      <td>NaN</td>\n",
       "      <td>0</td>\n",
       "    </tr>\n",
       "    <tr>\n",
       "      <th>10</th>\n",
       "      <td>2023-01-23</td>\n",
       "      <td>12:08:00</td>\n",
       "      <td>NaN</td>\n",
       "      <td>0</td>\n",
       "    </tr>\n",
       "    <tr>\n",
       "      <th>12</th>\n",
       "      <td>2023-01-31</td>\n",
       "      <td>12:49:00</td>\n",
       "      <td>NaN</td>\n",
       "      <td>0</td>\n",
       "    </tr>\n",
       "    <tr>\n",
       "      <th>13</th>\n",
       "      <td>2023-02-01</td>\n",
       "      <td>14:00:00</td>\n",
       "      <td>NaN</td>\n",
       "      <td>0</td>\n",
       "    </tr>\n",
       "    <tr>\n",
       "      <th>14</th>\n",
       "      <td>2023-02-07</td>\n",
       "      <td>12:36:00</td>\n",
       "      <td>NaN</td>\n",
       "      <td>0</td>\n",
       "    </tr>\n",
       "    <tr>\n",
       "      <th>15</th>\n",
       "      <td>2023-02-09</td>\n",
       "      <td>13:25:00</td>\n",
       "      <td>NaN</td>\n",
       "      <td>0</td>\n",
       "    </tr>\n",
       "    <tr>\n",
       "      <th>18</th>\n",
       "      <td>2023-02-14</td>\n",
       "      <td>11:30:00</td>\n",
       "      <td>NaN</td>\n",
       "      <td>0</td>\n",
       "    </tr>\n",
       "    <tr>\n",
       "      <th>16</th>\n",
       "      <td>2023-02-14</td>\n",
       "      <td>10:11:00</td>\n",
       "      <td>NaN</td>\n",
       "      <td>0</td>\n",
       "    </tr>\n",
       "    <tr>\n",
       "      <th>17</th>\n",
       "      <td>2023-02-14</td>\n",
       "      <td>10:11:00</td>\n",
       "      <td>NaN</td>\n",
       "      <td>0</td>\n",
       "    </tr>\n",
       "    <tr>\n",
       "      <th>19</th>\n",
       "      <td>2023-02-14</td>\n",
       "      <td>11:30:00</td>\n",
       "      <td>NaN</td>\n",
       "      <td>0</td>\n",
       "    </tr>\n",
       "  </tbody>\n",
       "</table>\n",
       "</div>"
      ],
      "text/plain": [
       "          Date Hour_Jump Hour_News  News_Related\n",
       "3   2023-01-03  14:45:00       NaN             0\n",
       "4   2023-01-04  12:58:00  12:45:00             1\n",
       "5   2023-01-04  14:25:00       NaN             0\n",
       "6   2023-01-04  14:25:00       NaN             0\n",
       "7   2023-01-04  14:25:00       NaN             0\n",
       "8   2023-01-13  09:59:00  09:47:00             1\n",
       "9   2023-01-20  13:19:00       NaN             0\n",
       "11  2023-01-23  12:08:00       NaN             0\n",
       "10  2023-01-23  12:08:00       NaN             0\n",
       "12  2023-01-31  12:49:00       NaN             0\n",
       "13  2023-02-01  14:00:00       NaN             0\n",
       "14  2023-02-07  12:36:00       NaN             0\n",
       "15  2023-02-09  13:25:00       NaN             0\n",
       "18  2023-02-14  11:30:00       NaN             0\n",
       "16  2023-02-14  10:11:00       NaN             0\n",
       "17  2023-02-14  10:11:00       NaN             0\n",
       "19  2023-02-14  11:30:00       NaN             0"
      ]
     },
     "execution_count": 8,
     "metadata": {},
     "output_type": "execute_result"
    }
   ],
   "source": [
    "data[\"Classifier_Data\"][\"jumps_news_related\"]"
   ]
  },
  {
   "cell_type": "code",
   "execution_count": null,
   "id": "28b3cd01-9ea4-4173-bf5d-83ab62fc3a60",
   "metadata": {},
   "outputs": [],
   "source": []
  }
 ],
 "metadata": {
  "kernelspec": {
   "display_name": "Python 3 (ipykernel)",
   "language": "python",
   "name": "python3"
  },
  "language_info": {
   "codemirror_mode": {
    "name": "ipython",
    "version": 3
   },
   "file_extension": ".py",
   "mimetype": "text/x-python",
   "name": "python",
   "nbconvert_exporter": "python",
   "pygments_lexer": "ipython3",
   "version": "3.9.5"
  }
 },
 "nbformat": 4,
 "nbformat_minor": 5
}
