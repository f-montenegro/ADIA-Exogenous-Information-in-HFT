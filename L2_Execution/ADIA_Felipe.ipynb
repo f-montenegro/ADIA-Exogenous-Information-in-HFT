{
 "cells": [
  {
   "cell_type": "code",
   "execution_count": 4,
   "id": "eac23efc-dcf8-40b2-89a5-b6aff3eec63f",
   "metadata": {},
   "outputs": [],
   "source": [
    "import sys"
   ]
  },
  {
   "cell_type": "code",
   "execution_count": 7,
   "id": "34d1361d-e888-496d-a0f2-0f878edbebd5",
   "metadata": {},
   "outputs": [],
   "source": [
    "Github_folder_path = r'C:\\Users\\felip\\OneDrive\\Área de Trabalho\\Main Folder\\Study\\GitHub\\\\GitHub_Repo\\\\ADIA_Project\\\\L2_Execution'\n",
    "if Github_folder_path not in sys.path:\n",
    "    sys.path.append(Github_folder_path)"
   ]
  },
  {
   "cell_type": "code",
   "execution_count": 11,
   "id": "fe2d5639-3e9b-47e6-9e53-fc19fa09faeb",
   "metadata": {},
   "outputs": [
    {
     "data": {
      "text/plain": [
       "['C:\\\\Users\\\\felip\\\\OneDrive\\\\Área de Trabalho\\\\Main Folder\\\\Study\\\\GitHub\\\\GitHub_Repo\\\\ADIA_Project\\\\L2_Execution',\n",
       " 'C:\\\\Users\\\\felip\\\\AppData\\\\Local\\\\Programs\\\\Python\\\\Python39\\\\python39.zip',\n",
       " 'C:\\\\Users\\\\felip\\\\AppData\\\\Local\\\\Programs\\\\Python\\\\Python39\\\\DLLs',\n",
       " 'C:\\\\Users\\\\felip\\\\AppData\\\\Local\\\\Programs\\\\Python\\\\Python39\\\\lib',\n",
       " 'C:\\\\Users\\\\felip\\\\AppData\\\\Local\\\\Programs\\\\Python\\\\Python39',\n",
       " 'c:\\\\users\\\\felip\\\\env1',\n",
       " '',\n",
       " 'c:\\\\users\\\\felip\\\\env1\\\\lib\\\\site-packages',\n",
       " 'c:\\\\users\\\\felip\\\\env1\\\\lib\\\\site-packages\\\\win32',\n",
       " 'c:\\\\users\\\\felip\\\\env1\\\\lib\\\\site-packages\\\\win32\\\\lib',\n",
       " 'c:\\\\users\\\\felip\\\\env1\\\\lib\\\\site-packages\\\\Pythonwin',\n",
       " '../',\n",
       " '../L1_Dev']"
      ]
     },
     "execution_count": 11,
     "metadata": {},
     "output_type": "execute_result"
    }
   ],
   "source": [
    "sys.path"
   ]
  },
  {
   "cell_type": "code",
   "execution_count": null,
   "id": "d65e78c1-8e1d-4c71-8148-d743a8984682",
   "metadata": {},
   "outputs": [],
   "source": []
  }
 ],
 "metadata": {
  "kernelspec": {
   "display_name": "Python 3 (ipykernel)",
   "language": "python",
   "name": "python3"
  },
  "language_info": {
   "codemirror_mode": {
    "name": "ipython",
    "version": 3
   },
   "file_extension": ".py",
   "mimetype": "text/x-python",
   "name": "python",
   "nbconvert_exporter": "python",
   "pygments_lexer": "ipython3",
   "version": "3.9.5"
  }
 },
 "nbformat": 4,
 "nbformat_minor": 5
}
