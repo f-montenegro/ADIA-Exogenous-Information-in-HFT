{
 "cells": [
  {
   "cell_type": "markdown",
   "id": "f02d9513-9cbd-470d-98de-8866c3ec3d5b",
   "metadata": {},
   "source": [
    "# ADIA - Felipe"
   ]
  },
  {
   "cell_type": "markdown",
   "id": "a0884f51-5f33-44f1-a89c-19ab4e27356d",
   "metadata": {},
   "source": [
    "## Import Dev Classes"
   ]
  },
  {
   "cell_type": "code",
   "execution_count": 1,
   "id": "eac23efc-dcf8-40b2-89a5-b6aff3eec63f",
   "metadata": {},
   "outputs": [],
   "source": [
    "import sys"
   ]
  },
  {
   "cell_type": "code",
   "execution_count": 2,
   "id": "34d1361d-e888-496d-a0f2-0f878edbebd5",
   "metadata": {},
   "outputs": [],
   "source": [
    "Github_folder_path = r'C:\\Users\\felip\\OneDrive\\Área de Trabalho\\Main Folder\\Study\\GitHub\\GitHub_Repo\\ADIA_Project'\n",
    "if Github_folder_path not in sys.path:\n",
    "    sys.path.append(Github_folder_path)"
   ]
  },
  {
   "cell_type": "code",
   "execution_count": 3,
   "id": "d65e78c1-8e1d-4c71-8148-d743a8984682",
   "metadata": {},
   "outputs": [],
   "source": [
    "from L0_Library.config import *\n",
    "from L1_Dev.LOB_data import DataLOB"
   ]
  },
  {
   "cell_type": "markdown",
   "id": "99ef2813-13f6-452a-9bd9-2d4efe40f373",
   "metadata": {},
   "source": [
    "## Generate Data"
   ]
  },
  {
   "cell_type": "code",
   "execution_count": 9,
   "id": "bc300651-4cf0-4f71-8c9c-28b8e32123e6",
   "metadata": {},
   "outputs": [],
   "source": [
    "##### TEST #####\n",
    "# TSLA\n",
    "# 1 day\n",
    "# 05/09/2023 from 9:30 to 14:00\n",
    "################\n",
    "\n",
    "data_lob = DataLOB(dataset=\"XNAS.ITCH\",\n",
    "                   API_key=\"db-SEbmRhQ3ekjnrdRQLfK4iDYJhVkrL\",\n",
    "                   resample_freq=\"1T\",\n",
    "                   date=datetime(2023, 9, 5, 9, 30),  # datetime object datetime(YYYY, MM, DD, HH, MM) for (MM/DD/YYYY), at HH:MM AM\n",
    "                   end_hour=14,\n",
    "                   end_minute=0,\n",
    "                   t_days=1)"
   ]
  },
  {
   "cell_type": "code",
   "execution_count": 10,
   "id": "74aa4e63-e416-4022-aff7-5a5782f36c10",
   "metadata": {},
   "outputs": [],
   "source": [
    "# Get data filtered by Depth 0 or 1\n",
    "# count_days can be different from t_days (weekend, holidays, ...)\n",
    "\n",
    "df, count_days = data_lob.build_data_set(\"TSLA\")"
   ]
  },
  {
   "cell_type": "code",
   "execution_count": 11,
   "id": "d0687a19-a967-4f35-ae30-56eb92511251",
   "metadata": {},
   "outputs": [],
   "source": [
    "# Mid-price per minute\n",
    "# It can be calculate by using 3 methods:\n",
    "#   1 - Take last bid and ask of the minute\n",
    "#   2 - Take the mean mid-price during the minute\n",
    "#   3 - Volume Weighted Mid-Price (VWMP)\n",
    "\n",
    "df_mid_last = data_lob.get_mid_price(df_input=df, type_mid=\"last\", drop_na=False)\n",
    "df_ret_last = data_lob.calculate_return(df_input=df_mid_last, column_name=\"mid-price_last\")\n",
    "df_bv_last = data_lob.sqrt_root_average_realised_bipower_variation(df_input=df_ret_last, column_name=\"log-returns\", k=10)\n",
    "\n",
    "df_mid_mean = data_lob.get_mid_price(df_input=df, type_mid=\"mean\", drop_na=False)\n",
    "df_ret_mean = data_lob.calculate_return(df_input=df_mid_mean, column_name=\"mid-price_mean\")\n",
    "df_bv_mean = data_lob.sqrt_root_average_realised_bipower_variation(df_input=df_ret_mean, column_name=\"log-returns\", k=10)\n",
    "\n",
    "df_mid_vwmp = data_lob.get_mid_price(df_input=df, type_mid=\"vwmp\", drop_na=False)\n",
    "df_ret_vwmp = data_lob.calculate_return(df_input=df_mid_vwmp, column_name=\"mid-price_vwmp\")\n",
    "df_bv_vwmp = data_lob.sqrt_root_average_realised_bipower_variation(df_input=df_ret_vwmp, column_name=\"log-returns\", k=10)\n"
   ]
  },
  {
   "cell_type": "code",
   "execution_count": 12,
   "id": "cea315d3-355d-49a1-8f4d-8996f432f94c",
   "metadata": {},
   "outputs": [
    {
     "data": {
      "text/html": [
       "<div>\n",
       "<style scoped>\n",
       "    .dataframe tbody tr th:only-of-type {\n",
       "        vertical-align: middle;\n",
       "    }\n",
       "\n",
       "    .dataframe tbody tr th {\n",
       "        vertical-align: top;\n",
       "    }\n",
       "\n",
       "    .dataframe thead th {\n",
       "        text-align: right;\n",
       "    }\n",
       "</style>\n",
       "<table border=\"1\" class=\"dataframe\">\n",
       "  <thead>\n",
       "    <tr style=\"text-align: right;\">\n",
       "      <th></th>\n",
       "      <th>mid-price_last</th>\n",
       "    </tr>\n",
       "    <tr>\n",
       "      <th>ts_event</th>\n",
       "      <th></th>\n",
       "    </tr>\n",
       "  </thead>\n",
       "  <tbody>\n",
       "    <tr>\n",
       "      <th>2023-09-05 09:30:00+00:00</th>\n",
       "      <td>244.815</td>\n",
       "    </tr>\n",
       "    <tr>\n",
       "      <th>2023-09-05 09:31:00+00:00</th>\n",
       "      <td>244.610</td>\n",
       "    </tr>\n",
       "    <tr>\n",
       "      <th>2023-09-05 09:32:00+00:00</th>\n",
       "      <td>244.620</td>\n",
       "    </tr>\n",
       "    <tr>\n",
       "      <th>2023-09-05 09:33:00+00:00</th>\n",
       "      <td>244.840</td>\n",
       "    </tr>\n",
       "    <tr>\n",
       "      <th>2023-09-05 09:34:00+00:00</th>\n",
       "      <td>244.930</td>\n",
       "    </tr>\n",
       "    <tr>\n",
       "      <th>...</th>\n",
       "      <td>...</td>\n",
       "    </tr>\n",
       "    <tr>\n",
       "      <th>2023-09-05 13:56:00+00:00</th>\n",
       "      <td>250.235</td>\n",
       "    </tr>\n",
       "    <tr>\n",
       "      <th>2023-09-05 13:57:00+00:00</th>\n",
       "      <td>249.585</td>\n",
       "    </tr>\n",
       "    <tr>\n",
       "      <th>2023-09-05 13:58:00+00:00</th>\n",
       "      <td>249.350</td>\n",
       "    </tr>\n",
       "    <tr>\n",
       "      <th>2023-09-05 13:59:00+00:00</th>\n",
       "      <td>249.730</td>\n",
       "    </tr>\n",
       "    <tr>\n",
       "      <th>2023-09-05 14:00:00+00:00</th>\n",
       "      <td>249.880</td>\n",
       "    </tr>\n",
       "  </tbody>\n",
       "</table>\n",
       "<p>271 rows × 1 columns</p>\n",
       "</div>"
      ],
      "text/plain": [
       "                           mid-price_last\n",
       "ts_event                                 \n",
       "2023-09-05 09:30:00+00:00         244.815\n",
       "2023-09-05 09:31:00+00:00         244.610\n",
       "2023-09-05 09:32:00+00:00         244.620\n",
       "2023-09-05 09:33:00+00:00         244.840\n",
       "2023-09-05 09:34:00+00:00         244.930\n",
       "...                                   ...\n",
       "2023-09-05 13:56:00+00:00         250.235\n",
       "2023-09-05 13:57:00+00:00         249.585\n",
       "2023-09-05 13:58:00+00:00         249.350\n",
       "2023-09-05 13:59:00+00:00         249.730\n",
       "2023-09-05 14:00:00+00:00         249.880\n",
       "\n",
       "[271 rows x 1 columns]"
      ]
     },
     "execution_count": 12,
     "metadata": {},
     "output_type": "execute_result"
    }
   ],
   "source": [
    "df_mid_last"
   ]
  },
  {
   "cell_type": "markdown",
   "id": "ce5b4c23-ce92-409d-b9d6-619e77e5aacf",
   "metadata": {},
   "source": [
    "### LOB Data"
   ]
  },
  {
   "cell_type": "code",
   "execution_count": null,
   "id": "888ccbe4-393f-4373-af95-074efa46863c",
   "metadata": {},
   "outputs": [],
   "source": [
    "DataLOB.build_data_set"
   ]
  },
  {
   "cell_type": "code",
   "execution_count": null,
   "id": "cf1d6a1a-2785-457e-82a7-d3cc1bb7841d",
   "metadata": {},
   "outputs": [],
   "source": []
  },
  {
   "cell_type": "markdown",
   "id": "54b1cf2b-d4d7-4ef0-ad0f-1cff8f524781",
   "metadata": {},
   "source": [
    "### News Data"
   ]
  },
  {
   "cell_type": "code",
   "execution_count": null,
   "id": "53f23237-e777-4759-8653-7dc181433e31",
   "metadata": {},
   "outputs": [],
   "source": []
  },
  {
   "cell_type": "code",
   "execution_count": null,
   "id": "c52bdd57-2b68-4e43-b0dc-6452f6928a26",
   "metadata": {},
   "outputs": [],
   "source": []
  },
  {
   "cell_type": "code",
   "execution_count": null,
   "id": "d12123e7-58bb-4cbb-bf36-f5c07945c722",
   "metadata": {},
   "outputs": [],
   "source": []
  },
  {
   "cell_type": "code",
   "execution_count": null,
   "id": "541b8ee4-647e-4dc6-bd53-839ceeefc56e",
   "metadata": {},
   "outputs": [],
   "source": []
  },
  {
   "cell_type": "code",
   "execution_count": null,
   "id": "d7744168-51a8-4250-8729-66657d0c11d0",
   "metadata": {},
   "outputs": [],
   "source": []
  },
  {
   "cell_type": "code",
   "execution_count": null,
   "id": "8ca14802-d7ec-40cd-b0a4-a8e4410e2dbe",
   "metadata": {},
   "outputs": [],
   "source": []
  }
 ],
 "metadata": {
  "kernelspec": {
   "display_name": "Python 3 (ipykernel)",
   "language": "python",
   "name": "python3"
  },
  "language_info": {
   "codemirror_mode": {
    "name": "ipython",
    "version": 3
   },
   "file_extension": ".py",
   "mimetype": "text/x-python",
   "name": "python",
   "nbconvert_exporter": "python",
   "pygments_lexer": "ipython3",
   "version": "3.9.5"
  }
 },
 "nbformat": 4,
 "nbformat_minor": 5
}
